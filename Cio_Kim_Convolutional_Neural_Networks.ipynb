{
  "nbformat": 4,
  "nbformat_minor": 0,
  "metadata": {
    "accelerator": "GPU",
    "colab": {
      "provenance": []
    },
    "kernelspec": {
      "display_name": "Python 3",
      "language": "python",
      "name": "python3"
    },
    "language_info": {
      "codemirror_mode": {
        "name": "ipython",
        "version": 3
      },
      "file_extension": ".py",
      "mimetype": "text/x-python",
      "name": "python",
      "nbconvert_exporter": "python",
      "pygments_lexer": "ipython3",
      "version": "3.8.2"
    }
  },
  "cells": [
    {
      "cell_type": "markdown",
      "metadata": {
        "id": "Sq-JhCcLpBwS"
      },
      "source": [
        "#Conscientious Cars 2: Convolutional Neural Nets\n",
        "\n",
        "Welcome back to CC: ConscientiousCars! Today, we'll be improving on our system for distinguishing dogs from roads, so we can keep these cute puppers safe."
      ]
    },
    {
      "cell_type": "code",
      "metadata": {
        "id": "uhNVum16scIW"
      },
      "source": [
        "#@title Run this to load some packages and data! { display-mode: \"form\" }\n",
        "from sklearn.neural_network import MLPClassifier\n",
        "from sklearn.neighbors import KNeighborsClassifier\n",
        "from sklearn import model_selection\n",
        "from sklearn.metrics import accuracy_score\n",
        "from collections import Counter\n",
        "import keras\n",
        "from keras.models import Sequential\n",
        "from keras.layers import Dense, Conv2D\n",
        "from keras.layers import Activation, MaxPooling2D, Dropout, Flatten, Reshape\n",
        "from keras.wrappers.scikit_learn import KerasClassifier\n",
        "from sklearn.model_selection import StratifiedKFold\n",
        "from sklearn.model_selection import cross_val_score\n",
        "import numpy as np\n",
        "import pandas as pd\n",
        "import seaborn as sns\n",
        "import matplotlib.pyplot as plt\n",
        "\n",
        "\n",
        "def categorical_to_numpy(labels_in):\n",
        "  labels = []\n",
        "  for label in labels_in:\n",
        "    if label == 'dog':\n",
        "      labels.append(np.array([1, 0]))\n",
        "    else:\n",
        "      labels.append(np.array([0, 1]))\n",
        "  return np.array(labels)\n",
        "\n",
        "\n",
        "def load_data():\n",
        "  # Run this cell to download our data into a file called 'cifar_data'\n",
        "  import gdown\n",
        "  # gdown.download('https://drive.google.com/uc?id=1-BjeqccJdLiBA6PnNinmXSQ6w5BluLem','cifar_data','True'); # dogs v road;\n",
        "  !wget -O cifar_data https://storage.googleapis.com/inspirit-ai-data-bucket-1/Data/AI%20Scholars/Sessions%201%20-%205/Session%204%20_%205%20-%20Neural%20Networks%20_%20CNN/dogs_v_roads\n",
        "\n",
        "  # now load the data from our cloud computer\n",
        "  import pickle\n",
        "  data_dict = pickle.load(open( \"cifar_data\", \"rb\" ));\n",
        "\n",
        "  data   = data_dict['data']\n",
        "  labels = data_dict['labels']\n",
        "\n",
        "  return data, labels\n",
        "\n",
        "def plot_one_image(data, labels, img_idx):\n",
        "  from google.colab.patches import cv2_imshow\n",
        "  import cv2\n",
        "  import matplotlib.pyplot as plt\n",
        "  my_img   = data[img_idx, :].squeeze().reshape([32,32,3]).copy()\n",
        "  my_label = labels[img_idx]\n",
        "  print('label: %s'%my_label)\n",
        "  plt.imshow(my_img)\n",
        "  plt.show()\n",
        "\n",
        "def CNNClassifier(num_epochs=2, layers=1, dropout=0.15):\n",
        "  def create_model():\n",
        "    model = Sequential()\n",
        "    model.add(Reshape((32, 32, 3)))\n",
        "\n",
        "    for i in range(layers):\n",
        "      model.add(Conv2D(32, (3, 3), padding='same'))\n",
        "      model.add(Activation('relu'))\n",
        "\n",
        "    model.add(Conv2D(32, (3, 3)))\n",
        "    model.add(Activation('relu'))\n",
        "    model.add(MaxPooling2D(pool_size=(2, 2)))\n",
        "    model.add(Dropout(dropout))\n",
        "\n",
        "    model.add(Conv2D(64, (3, 3), padding='same'))\n",
        "    model.add(Activation('relu'))\n",
        "    model.add(Conv2D(64, (3, 3)))\n",
        "    model.add(Activation('relu'))\n",
        "    model.add(MaxPooling2D(pool_size=(2, 2)))\n",
        "    model.add(Dropout(dropout))\n",
        "\n",
        "    model.add(Flatten())\n",
        "    model.add(Dense(512))\n",
        "    model.add(Activation('relu'))\n",
        "    model.add(Dropout(dropout))\n",
        "    model.add(Dense(2))\n",
        "    model.add(Activation('softmax'))\n",
        "\n",
        "    # initiate RMSprop optimizer\n",
        "    opt = keras.optimizers.RMSprop(lr=0.0001, decay=1e-6)\n",
        "\n",
        "    # Let's train the model using RMSprop\n",
        "    model.compile(loss='categorical_crossentropy',\n",
        "                  optimizer=opt,\n",
        "                  metrics=['accuracy'])\n",
        "    return model\n",
        "  return KerasClassifier(build_fn=create_model, epochs=num_epochs, batch_size=10, verbose=2)\n",
        "\n",
        "def plot_acc(history, ax = None, xlabel = 'Epoch #'):\n",
        "    history = history.history\n",
        "    history.update({'epoch':list(range(len(history['val_accuracy'])))})\n",
        "    history = pd.DataFrame.from_dict(history)\n",
        "\n",
        "    best_epoch = history.sort_values(by = 'val_accuracy', ascending = False).iloc[0]['epoch']\n",
        "\n",
        "    if not ax:\n",
        "      f, ax = plt.subplots(1,1)\n",
        "    sns.lineplot(x = 'epoch', y = 'val_accuracy', data = history, label = 'Validation', ax = ax)\n",
        "    sns.lineplot(x = 'epoch', y = 'accuracy', data = history, label = 'Training', ax = ax)\n",
        "    ax.axhline(0.5, linestyle = '--',color='red', label = 'Chance')\n",
        "    ax.axvline(x = best_epoch, linestyle = '--', color = 'green', label = 'Best Epoch')\n",
        "    ax.legend(loc = 1)\n",
        "    ax.set_ylim([0.4, 1])\n",
        "\n",
        "    ax.set_xlabel(xlabel)\n",
        "    ax.set_ylabel('Accuracy (Fraction)')\n",
        "\n",
        "    plt.show()\n",
        "\n",
        "def model_to_string(model):\n",
        "    import re\n",
        "    stringlist = []\n",
        "    model.summary(print_fn=lambda x: stringlist.append(x))\n",
        "    sms = \"\\n\".join(stringlist)\n",
        "    sms = re.sub('_\\d\\d\\d','', sms)\n",
        "    sms = re.sub('_\\d\\d','', sms)\n",
        "    sms = re.sub('_\\d','', sms)\n",
        "    return sms"
      ],
      "execution_count": null,
      "outputs": []
    },
    {
      "cell_type": "markdown",
      "metadata": {
        "id": "wkseZ14ms7vs"
      },
      "source": [
        "In this notebook, we will:\n",
        "\n",
        "- Use a pre-built CNN function to classify roads vs. dogs.\n",
        "- Build neural networks from scratch in Keras.\n",
        "- Experiment with building CNN models from scratch in Keras.\n",
        "- (Advanced, Optional) Build CNN models for distinguishing cats from dogs, and even experiment with implementing a famous architecture!\n"
      ]
    },
    {
      "cell_type": "markdown",
      "metadata": {
        "id": "qMWQRlTqt6Yn"
      },
      "source": [
        "**Change Hardware Accelerator to GPU to train faster (Runtime -> Change Runtime Type -> Hardware Accelerator -> GPU)**"
      ]
    },
    {
      "cell_type": "markdown",
      "metadata": {
        "id": "1QxGsnvhnn8R"
      },
      "source": [
        "#Loading in Data"
      ]
    },
    {
      "cell_type": "markdown",
      "metadata": {
        "id": "btr24O6Hqgo6"
      },
      "source": [
        "Once again, let's load in our dog/road dataset and create our training and test set. **What's the shape of each dataset? Why?**"
      ]
    },
    {
      "cell_type": "code",
      "metadata": {
        "id": "MmZbrZoKnthN",
        "colab": {
          "base_uri": "https://localhost:8080/"
        },
        "outputId": "762776df-ad43-4330-ab91-628324fca621"
      },
      "source": [
        "# load our data\n",
        "data_raw, labels_raw = load_data()\n",
        "data = data_raw.astype(float)\n",
        "labels = categorical_to_numpy(labels_raw)\n",
        "inputs_train, inputs_test, labels_train, labels_test = model_selection.train_test_split(data, labels, test_size=0.2, random_state=1)\n",
        "\n",
        "### YOUR CODE HERE\n",
        "\n",
        "### END CODE"
      ],
      "execution_count": null,
      "outputs": [
        {
          "output_type": "stream",
          "text": [
            "--2021-07-10 03:22:21--  https://storage.googleapis.com/inspirit-ai-data-bucket-1/Data/AI%20Scholars/Sessions%201%20-%205/Session%204%20_%205%20-%20Neural%20Networks%20_%20CNN/dogs_v_roads\n",
            "Resolving storage.googleapis.com (storage.googleapis.com)... 142.250.141.128, 142.251.2.128, 2607:f8b0:4023:c0b::80, ...\n",
            "Connecting to storage.googleapis.com (storage.googleapis.com)|142.250.141.128|:443... connected.\n",
            "HTTP request sent, awaiting response... 200 OK\n",
            "Length: 3689015 (3.5M) [application/octet-stream]\n",
            "Saving to: ‘cifar_data’\n",
            "\n",
            "\rcifar_data            0%[                    ]       0  --.-KB/s               \rcifar_data          100%[===================>]   3.52M  --.-KB/s    in 0.01s   \n",
            "\n",
            "2021-07-10 03:22:21 (237 MB/s) - ‘cifar_data’ saved [3689015/3689015]\n",
            "\n"
          ],
          "name": "stdout"
        }
      ]
    },
    {
      "cell_type": "markdown",
      "metadata": {
        "id": "VcZra2S0NNSZ"
      },
      "source": [
        "Use the cell below as a reminder of what the data looks like."
      ]
    },
    {
      "cell_type": "code",
      "metadata": {
        "id": "B83F3CmPNSux",
        "colab": {
          "base_uri": "https://localhost:8080/",
          "height": 283
        },
        "outputId": "47084acc-64a8-4476-ac77-dfa109f64166"
      },
      "source": [
        "plot_one_image(data_raw, labels_raw, 300) # change this number"
      ],
      "execution_count": null,
      "outputs": [
        {
          "output_type": "stream",
          "text": [
            "label: dog\n"
          ],
          "name": "stdout"
        },
        {
          "output_type": "display_data",
          "data": {
            "image/png": "[encoded data removed]",
            "text/plain": [
              "<Figure size 432x288 with 1 Axes>"
            ]
          },
          "metadata": {
            "tags": [],
            "needs_background": "light"
          }
        }
      ]
    },
    {
      "cell_type": "markdown",
      "metadata": {
        "id": "37O_VE_D1Bdy"
      },
      "source": [
        "# Models for Vision: Convolutional Neural Networks"
      ]
    },
    {
      "cell_type": "markdown",
      "metadata": {
        "id": "GqrfI4JiVeFr"
      },
      "source": [
        "###Exercise: Exploring Hyperparameters ✍️\n",
        "\n",
        "As you know, there is a famous type of neural network known as convolutional neural networks (CNNs). These types of neural networks work particularly well on problems to do with computer vision. Let's try one out!\n",
        "\n",
        "To load up a simple CNN on scikit-learn, just run:\n",
        "\n",
        "`cnn = CNNClassifier(num_epochs, layers, dropout)`\n",
        "\n",
        "Work with your instructors to review what each parameter means and how it affects the model! The value for **dropout** is a float between 0 and 1 that represents the probability the weight for a neuron in the layer is set to 0 during training time. Each neuron in the layer is evaluated as such, which can help prevent overfitting.\n",
        "\n",
        "**Try different values of num_epochs, layers, and dropout so that you get the best possible accuracy on the test set using `model.score()`**!"
      ]
    },
    {
      "cell_type": "code",
      "metadata": {
        "id": "bmC3-T4KRJgW",
        "colab": {
          "base_uri": "https://localhost:8080/"
        },
        "outputId": "d8caabe1-57e3-4d98-ea89-36d8d22a4623"
      },
      "source": [
        "# Example CNN\n",
        "cnn = CNNClassifier(5, 2, 0.5)\n",
        "cnn.fit(inputs_train, labels_train)\n",
        "preds = cnn.predict(inputs_test)\n",
        "print (cnn.score(inputs_test, labels_test))"
      ],
      "execution_count": null,
      "outputs": [
        {
          "output_type": "stream",
          "text": [
            "/usr/local/lib/python3.7/dist-packages/tensorflow/python/keras/optimizer_v2/optimizer_v2.py:375: UserWarning: The `lr` argument is deprecated, use `learning_rate` instead.\n",
            "  \"The `lr` argument is deprecated, use `learning_rate` instead.\")\n"
          ],
          "name": "stderr"
        },
        {
          "output_type": "stream",
          "text": [
            "Epoch 1/5\n",
            "96/96 - 3s - loss: 7.7682 - accuracy: 0.6000\n",
            "Epoch 2/5\n",
            "96/96 - 0s - loss: 1.2705 - accuracy: 0.7521\n",
            "Epoch 3/5\n",
            "96/96 - 0s - loss: 0.5830 - accuracy: 0.8281\n",
            "Epoch 4/5\n",
            "96/96 - 0s - loss: 0.4403 - accuracy: 0.8500\n",
            "Epoch 5/5\n",
            "96/96 - 0s - loss: 0.2910 - accuracy: 0.8990\n"
          ],
          "name": "stdout"
        },
        {
          "output_type": "stream",
          "text": [
            "/usr/local/lib/python3.7/dist-packages/keras/engine/sequential.py:450: UserWarning: `model.predict_classes()` is deprecated and will be removed after 2021-01-01. Please use instead:* `np.argmax(model.predict(x), axis=-1)`,   if your model does multi-class classification   (e.g. if it uses a `softmax` last-layer activation).* `(model.predict(x) > 0.5).astype(\"int32\")`,   if your model does binary classification   (e.g. if it uses a `sigmoid` last-layer activation).\n",
            "  warnings.warn('`model.predict_classes()` is deprecated and '\n"
          ],
          "name": "stderr"
        },
        {
          "output_type": "stream",
          "text": [
            "24/24 - 0s\n",
            "24/24 - 1s - loss: 0.2312 - accuracy: 0.9167\n",
            "0.9166666865348816\n"
          ],
          "name": "stdout"
        }
      ]
    },
    {
      "cell_type": "code",
      "metadata": {
        "id": "dSwghlVU4WTy",
        "colab": {
          "base_uri": "https://localhost:8080/"
        },
        "outputId": "4826d66d-00ae-495a-8dc0-c3d4d5f6519e"
      },
      "source": [
        "# Create and train our CNN\n",
        "### YOUR CODE HERE\n",
        "\n",
        "# Print the score on the testing data\n",
        "\n",
        "cnn = CNNClassifier(20, 2, 0.5)\n",
        "cnn.fit(inputs_train, labels_train)\n",
        "preds = cnn.predict(inputs_test)\n",
        "print (cnn.score(inputs_test, labels_test))\n",
        "### END CODE"
      ],
      "execution_count": null,
      "outputs": [
        {
          "output_type": "stream",
          "text": [
            "/usr/local/lib/python3.7/dist-packages/tensorflow/python/keras/optimizer_v2/optimizer_v2.py:375: UserWarning: The `lr` argument is deprecated, use `learning_rate` instead.\n",
            "  \"The `lr` argument is deprecated, use `learning_rate` instead.\")\n"
          ],
          "name": "stderr"
        },
        {
          "output_type": "stream",
          "text": [
            "Epoch 1/20\n",
            "96/96 - 3s - loss: 5.9039 - accuracy: 0.5823\n",
            "Epoch 2/20\n",
            "96/96 - 0s - loss: 0.9482 - accuracy: 0.7688\n",
            "Epoch 3/20\n",
            "96/96 - 0s - loss: 0.4876 - accuracy: 0.8354\n",
            "Epoch 4/20\n",
            "96/96 - 0s - loss: 0.4138 - accuracy: 0.8604\n",
            "Epoch 5/20\n",
            "96/96 - 0s - loss: 0.3131 - accuracy: 0.8906\n",
            "Epoch 6/20\n",
            "96/96 - 0s - loss: 0.2576 - accuracy: 0.9156\n",
            "Epoch 7/20\n",
            "96/96 - 0s - loss: 0.2454 - accuracy: 0.9125\n",
            "Epoch 8/20\n",
            "96/96 - 0s - loss: 0.2379 - accuracy: 0.9135\n",
            "Epoch 9/20\n",
            "96/96 - 0s - loss: 0.2280 - accuracy: 0.9198\n",
            "Epoch 10/20\n",
            "96/96 - 0s - loss: 0.2175 - accuracy: 0.9271\n",
            "Epoch 11/20\n",
            "96/96 - 0s - loss: 0.1867 - accuracy: 0.9344\n",
            "Epoch 12/20\n",
            "96/96 - 0s - loss: 0.1671 - accuracy: 0.9500\n",
            "Epoch 13/20\n",
            "96/96 - 0s - loss: 0.1835 - accuracy: 0.9354\n",
            "Epoch 14/20\n",
            "96/96 - 0s - loss: 0.1803 - accuracy: 0.9385\n",
            "Epoch 15/20\n",
            "96/96 - 0s - loss: 0.1455 - accuracy: 0.9479\n",
            "Epoch 16/20\n",
            "96/96 - 0s - loss: 0.1646 - accuracy: 0.9385\n",
            "Epoch 17/20\n",
            "96/96 - 0s - loss: 0.1689 - accuracy: 0.9500\n",
            "Epoch 18/20\n",
            "96/96 - 0s - loss: 0.1669 - accuracy: 0.9385\n",
            "Epoch 19/20\n",
            "96/96 - 0s - loss: 0.1207 - accuracy: 0.9542\n",
            "Epoch 20/20\n",
            "96/96 - 0s - loss: 0.1396 - accuracy: 0.9563\n"
          ],
          "name": "stdout"
        },
        {
          "output_type": "stream",
          "text": [
            "/usr/local/lib/python3.7/dist-packages/keras/engine/sequential.py:450: UserWarning: `model.predict_classes()` is deprecated and will be removed after 2021-01-01. Please use instead:* `np.argmax(model.predict(x), axis=-1)`,   if your model does multi-class classification   (e.g. if it uses a `softmax` last-layer activation).* `(model.predict(x) > 0.5).astype(\"int32\")`,   if your model does binary classification   (e.g. if it uses a `sigmoid` last-layer activation).\n",
            "  warnings.warn('`model.predict_classes()` is deprecated and '\n"
          ],
          "name": "stderr"
        },
        {
          "output_type": "stream",
          "text": [
            "24/24 - 0s\n",
            "24/24 - 1s - loss: 0.1069 - accuracy: 0.9667\n",
            "0.9666666388511658\n"
          ],
          "name": "stdout"
        }
      ]
    },
    {
      "cell_type": "markdown",
      "metadata": {
        "id": "KGWpgsVXP1ut"
      },
      "source": [
        "**How well did your neural network perform?**\n",
        "\n",
        "CNNs typically perform better than fully-connected neural networks on vision problems, but, as before, they aren't always consistent. They are also sensitive to a number of parameters."
      ]
    },
    {
      "cell_type": "markdown",
      "metadata": {
        "id": "c-XRh5Y5P_CL"
      },
      "source": [
        "## Training and Validation Curves\n",
        "\n",
        "An important aspect of training neural networks is to prevent overfitting. **How would we recognize overfitting?**\n",
        "\n",
        "In the first line of code below, we first **fit** the model on the training data and pass in some validation (or test) data to evaluate it. We call it the **history** because we want to retain information about the accuracy at each epoch.\n",
        "\n",
        "In the second line we plot the history so that we can compare the training and validation accuracies.  \n",
        "\n",
        "```\n",
        "history = model.fit(inputs_train, labels_train, validation_data=(inputs_test, labels_test))\n",
        "plot_acc(history)\n",
        "```\n",
        "\n"
      ]
    },
    {
      "cell_type": "markdown",
      "metadata": {
        "id": "8eaFvE2PQEFe"
      },
      "source": [
        "###Exercise: Plotting a training vs. validation curve for our CNN ✍️\n",
        "\n",
        "**After how many epochs does the model begin to overfit? How does this vary as you vary the number of hidden layers and dropout?** Overfitting occurs when the validation accuracy starts to drop below the training accuracy."
      ]
    },
    {
      "cell_type": "code",
      "metadata": {
        "id": "OsVAasDbjARJ",
        "colab": {
          "base_uri": "https://localhost:8080/",
          "height": 997
        },
        "outputId": "f92fa183-0b60-4725-cc89-140687bb52d4"
      },
      "source": [
        "### YOUR CODE HERE\n",
        "history = cnn.fit(inputs_train, labels_train, validation_data=(inputs_test, labels_test))\n",
        "plot_acc(history)\n",
        "### END CODE"
      ],
      "execution_count": null,
      "outputs": [
        {
          "output_type": "stream",
          "text": [
            "/usr/local/lib/python3.7/dist-packages/tensorflow/python/keras/optimizer_v2/optimizer_v2.py:375: UserWarning: The `lr` argument is deprecated, use `learning_rate` instead.\n",
            "  \"The `lr` argument is deprecated, use `learning_rate` instead.\")\n"
          ],
          "name": "stderr"
        },
        {
          "output_type": "stream",
          "text": [
            "Epoch 1/20\n",
            "96/96 - 3s - loss: 7.2889 - accuracy: 0.6021 - val_loss: 0.4569 - val_accuracy: 0.7792\n",
            "Epoch 2/20\n",
            "96/96 - 0s - loss: 1.1785 - accuracy: 0.7208 - val_loss: 0.2473 - val_accuracy: 0.8917\n",
            "Epoch 3/20\n",
            "96/96 - 0s - loss: 0.4850 - accuracy: 0.8385 - val_loss: 0.1735 - val_accuracy: 0.9500\n",
            "Epoch 4/20\n",
            "96/96 - 0s - loss: 0.3018 - accuracy: 0.8865 - val_loss: 0.1826 - val_accuracy: 0.9458\n",
            "Epoch 5/20\n",
            "96/96 - 0s - loss: 0.3033 - accuracy: 0.8927 - val_loss: 0.1690 - val_accuracy: 0.9292\n",
            "Epoch 6/20\n",
            "96/96 - 0s - loss: 0.3033 - accuracy: 0.8958 - val_loss: 0.1620 - val_accuracy: 0.9625\n",
            "Epoch 7/20\n",
            "96/96 - 0s - loss: 0.2118 - accuracy: 0.9271 - val_loss: 0.2138 - val_accuracy: 0.9167\n",
            "Epoch 8/20\n",
            "96/96 - 0s - loss: 0.2213 - accuracy: 0.9146 - val_loss: 0.1380 - val_accuracy: 0.9417\n",
            "Epoch 9/20\n",
            "96/96 - 0s - loss: 0.1904 - accuracy: 0.9240 - val_loss: 0.1741 - val_accuracy: 0.9250\n",
            "Epoch 10/20\n",
            "96/96 - 0s - loss: 0.1833 - accuracy: 0.9344 - val_loss: 0.1368 - val_accuracy: 0.9458\n",
            "Epoch 11/20\n",
            "96/96 - 0s - loss: 0.2018 - accuracy: 0.9302 - val_loss: 0.1333 - val_accuracy: 0.9583\n",
            "Epoch 12/20\n",
            "96/96 - 0s - loss: 0.1855 - accuracy: 0.9438 - val_loss: 0.1848 - val_accuracy: 0.9208\n",
            "Epoch 13/20\n",
            "96/96 - 0s - loss: 0.1997 - accuracy: 0.9354 - val_loss: 0.1136 - val_accuracy: 0.9667\n",
            "Epoch 14/20\n",
            "96/96 - 0s - loss: 0.1499 - accuracy: 0.9458 - val_loss: 0.1116 - val_accuracy: 0.9667\n",
            "Epoch 15/20\n",
            "96/96 - 0s - loss: 0.1697 - accuracy: 0.9312 - val_loss: 0.1235 - val_accuracy: 0.9625\n",
            "Epoch 16/20\n",
            "96/96 - 0s - loss: 0.1604 - accuracy: 0.9438 - val_loss: 0.3410 - val_accuracy: 0.8958\n",
            "Epoch 17/20\n",
            "96/96 - 0s - loss: 0.1596 - accuracy: 0.9469 - val_loss: 0.1327 - val_accuracy: 0.9500\n",
            "Epoch 18/20\n",
            "96/96 - 0s - loss: 0.1446 - accuracy: 0.9385 - val_loss: 0.0931 - val_accuracy: 0.9708\n",
            "Epoch 19/20\n",
            "96/96 - 0s - loss: 0.1285 - accuracy: 0.9583 - val_loss: 0.1560 - val_accuracy: 0.9333\n",
            "Epoch 20/20\n",
            "96/96 - 0s - loss: 0.1498 - accuracy: 0.9500 - val_loss: 0.1795 - val_accuracy: 0.9417\n"
          ],
          "name": "stdout"
        },
        {
          "output_type": "display_data",
          "data": {
            "image/png": "[encoded data removed]",
            "text/plain": [
              "<Figure size 432x288 with 1 Axes>"
            ]
          },
          "metadata": {
            "tags": [],
            "needs_background": "light"
          }
        }
      ]
    },
    {
      "cell_type": "markdown",
      "metadata": {
        "id": "76z4NAY6afd7"
      },
      "source": [
        "# Building Neural Networks from Scratch in Keras\n",
        "\n",
        "So far, we've used helper functions which pre-build Keras neural network models. Now, we will build them on our own!\n",
        "\n",
        "Let's start with a \"toy example\": a tiny neural network with 3 inputs.\n"
      ]
    },
    {
      "cell_type": "markdown",
      "metadata": {
        "id": "jdngkAX_aCVu"
      },
      "source": [
        "###Exercise: Building a simple Neural Network using Keras! ✍️\n",
        "\n"
      ]
    },
    {
      "cell_type": "markdown",
      "metadata": {
        "id": "Bj-Pt3wGCXRu"
      },
      "source": [
        "\n",
        "We're going to build this model:\n",
        "\n",
        "![](http://cs231n.github.io/assets/nn1/neural_net.jpeg)"
      ]
    },
    {
      "cell_type": "markdown",
      "metadata": {
        "id": "H-6WGeedvTCS"
      },
      "source": [
        "This network can be described as:\n",
        "* Input Layer: 3\n",
        "* Layer 1 (Hidden): 4 neurons that are activated by `'relu'`\n",
        "* Layer 2 (Output): 2 neurons that are activated by `'softmax'`\n",
        "\n",
        "\n",
        "We also want to compile the model with\n",
        "`loss = 'categorical_crossentropy'`\n",
        "\n",
        "Try filling in the blanks below and walking through each line! **If you want a hint or more details, check out the optional reference below.**"
      ]
    },
    {
      "cell_type": "code",
      "metadata": {
        "id": "dp-g9qotbRPU",
        "colab": {
          "base_uri": "https://localhost:8080/"
        },
        "outputId": "5ac79ade-841c-44b5-d349-86c0dcbee22d"
      },
      "source": [
        "# Fill in the blanks with your group!\n",
        "### YOUR CODE HERE:\n",
        "model_1 = Sequential()\n",
        "model_1.add(Dense(4, input_shape = (3,), activation = 'relu'))\n",
        "model_1.add(Dense(2, activation = 'softmax'))\n",
        "model_1.compile(loss='categorical_crossentropy',\n",
        "                optimizer = 'adam',\n",
        "                metrics = ['accuracy'])\n",
        "model_1.predict_classes([[100,-4,-2]]) #Try any input!\n",
        "### END CODE"
      ],
      "execution_count": null,
      "outputs": [
        {
          "output_type": "stream",
          "text": [
            "/usr/local/lib/python3.7/dist-packages/keras/engine/sequential.py:450: UserWarning: `model.predict_classes()` is deprecated and will be removed after 2021-01-01. Please use instead:* `np.argmax(model.predict(x), axis=-1)`,   if your model does multi-class classification   (e.g. if it uses a `softmax` last-layer activation).* `(model.predict(x) > 0.5).astype(\"int32\")`,   if your model does binary classification   (e.g. if it uses a `sigmoid` last-layer activation).\n",
            "  warnings.warn('`model.predict_classes()` is deprecated and '\n"
          ],
          "name": "stderr"
        },
        {
          "output_type": "execute_result",
          "data": {
            "text/plain": [
              "array([1])"
            ]
          },
          "metadata": {
            "tags": []
          },
          "execution_count": 12
        }
      ]
    },
    {
      "cell_type": "markdown",
      "metadata": {
        "id": "781M4IyhssuA"
      },
      "source": [
        "####**Optional Reference**\n",
        "\n",
        "Here's some information about each step of the process. **You don't need to read through all this - check it as a reference if needed!**\n",
        "\n",
        "**1. Specify model**\n",
        "\n",
        "```\n",
        "model = Sequential()\n",
        "```\n",
        "In this line of code, we build our network where the information flows from LEFT to RIGHT through the network in ONE DIRECTION as opposed to multiple directions. Neurons on the right never pass informations to neurons on the left of it.\n",
        "\n",
        "\n",
        "**2. Add layers to the network**\n",
        "```\n",
        "model.add(Dense(4,input_shape = (3,), activation = 'sigmoid'))\n",
        "```\n",
        "In this code, we `add` a `layer` of neurons to our network.\n",
        "\n",
        "This layers consists of 4 neurons. Each neuron is DENSE and connects to all of the previous layer's inputs and all of the subsequent layers outputs. We specify that there are 3 inputs here.\n",
        "\n",
        "We also specify what kind of output the neuron will give. If you want the neuron to output a number between 0 and 1 (like a probability!) you would use 'softmax' or 'sigmoid'. If you want the neuron to output any number, you can use 'linear'! You'll also often see 'relu', which is when a neuron will only output positive numbers.\n",
        "\n",
        "```\n",
        "model.add(Dense(1, activation = 'linear'))\n",
        "```\n",
        "This code adds ANOTHER layer to the network that has 1 neuron. This one neuron is used to predict a continuous value!\n",
        "\n",
        "**3. Turn the model on by compiling it**\n",
        "\n",
        "After having built the network, we want to train and use it, so we have to 'compile' it to prepare. We have to specify at the very least: a loss (how the model measures the quality of its weights), an optimizer (which adjusts the weights), and a metric (how to evaluate our results). Here are some common choices:\n",
        "```\n",
        "model.compile(loss='mean_squared_error',\n",
        "optimizer = 'adam',\n",
        "metrics = ['mean_squared_error'])\n",
        "  ```\n",
        "\n",
        "Once we've created our network, we can use it very simply! Just like we did with sklearn, we define our input data (x), the true predictions from that data (y), and then train our model with `fit`.\n",
        "\n",
        "```\n",
        "model.fit(x, y)\n",
        "```\n",
        "\n",
        "To use the model, you can use it to predict something with:\n",
        "```\n",
        "y = model.predict_classes(x)\n",
        "```\n",
        "\n",
        "You can actually use the model before you even train it! It just won't perform very well."
      ]
    },
    {
      "cell_type": "markdown",
      "metadata": {
        "id": "YovNRgfuy0Oq"
      },
      "source": [
        "###(Optional) Exercise: Building a multi-layer Neural Net using Keras ✍️\n",
        "\n",
        "![](http://cs231n.github.io/assets/nn1/neural_net2.jpeg)\n",
        "\n",
        "Let's try another, bigger example!\n",
        "\n",
        "* Input Layer: 3 Neurons\n",
        "\n",
        "* Layer 1: 4 neurons that are activated by `'relu' `and take in 3 inputs.\n",
        "\n",
        "* Layer 2: 4 neurons that are activated by `'relu'`\n",
        "\n",
        "* Layer 3 (out): 1 neurons that is activated by `'sigmoid'`\n",
        "\n",
        "Compile the model with\n",
        "`loss = 'binary_crossentropy'`"
      ]
    },
    {
      "cell_type": "code",
      "metadata": {
        "id": "pm-ylEWqbXrQ",
        "colab": {
          "base_uri": "https://localhost:8080/"
        },
        "outputId": "2949ef0d-5d22-49bd-8cd0-cec480e0508a"
      },
      "source": [
        "### YOUR CODE HERE\n",
        "model_2 = Sequential()\n",
        "model_2.add(Dense(3, input_shape = (3,), activation = 'relu'))\n",
        "model_2.add(Dense(4, input_shape = (4,), activation = 'relu'))\n",
        "model_2.add(Dense(1, activation = 'sigmoid'))\n",
        "model_2.compile(loss='binary_crossentropy',\n",
        "                optimizer = 'adam',\n",
        "                metrics = ['accuracy'])\n",
        "model_2.predict_classes([[100,-4,-2]]) #Try any input!\n",
        "\n",
        "\n",
        "### END CODE"
      ],
      "execution_count": null,
      "outputs": [
        {
          "output_type": "stream",
          "text": [
            "/usr/local/lib/python3.7/dist-packages/keras/engine/sequential.py:450: UserWarning: `model.predict_classes()` is deprecated and will be removed after 2021-01-01. Please use instead:* `np.argmax(model.predict(x), axis=-1)`,   if your model does multi-class classification   (e.g. if it uses a `softmax` last-layer activation).* `(model.predict(x) > 0.5).astype(\"int32\")`,   if your model does binary classification   (e.g. if it uses a `sigmoid` last-layer activation).\n",
            "  warnings.warn('`model.predict_classes()` is deprecated and '\n"
          ],
          "name": "stderr"
        },
        {
          "output_type": "execute_result",
          "data": {
            "text/plain": [
              "array([[0]], dtype=int32)"
            ]
          },
          "metadata": {
            "tags": []
          },
          "execution_count": 14
        }
      ]
    },
    {
      "cell_type": "markdown",
      "metadata": {
        "id": "QCbD6siv-Ip-"
      },
      "source": [
        "##Exercise: Building a CNN using Keras! ✍️\n",
        "\n",
        "Now that we know how to build simple neural networks in Keras, let's build a CNN that will perform well on our data set of car and road images.\n",
        "\n",
        "Below is Keras code for a CNN. It will run as-is on the conscientious cars dataset. However, the performance is suboptimal. Add more layers and change the neural network hyperparameters so that the performance will be better. **Can you get the train and validation accuracy to both be higher than 90%?**\n",
        "\n",
        "The Keras core layer API may be a useful reference: https://keras.io/layers/core/\n",
        "\n",
        "In particular and in addition to adding more of the existing convolutional layers and activations, consider using the following layers after a convolution + activation:\n",
        "\n",
        "`Dropout(N)`\n",
        "\n",
        "`MaxPooling2D(pool_size=(N, N))`\n"
      ]
    },
    {
      "cell_type": "code",
      "metadata": {
        "id": "LFVHyPKn-V4N",
        "colab": {
          "base_uri": "https://localhost:8080/",
          "height": 1000
        },
        "outputId": "4b759d3f-43dc-4a58-8b02-11e4a7577d06"
      },
      "source": [
        "model = Sequential()\n",
        "model.add(Reshape((32, 32, 3)))\n",
        "\n",
        "model.add(Conv2D(32, (3, 3), padding='same'))\n",
        "model.add(Activation('relu'))\n",
        "\n",
        "Dropout(0.7)\n",
        "\n",
        "model.add(Conv2D(32, (3, 3), padding='same'))\n",
        "model.add(Activation('relu'))\n",
        "\n",
        "Dropout(0.6)\n",
        "\n",
        "model.add(Conv2D(32, (3, 3), padding='same'))\n",
        "model.add(Activation('relu'))\n",
        "Dropout(0.8)\n",
        "\n",
        "model.add(MaxPooling2D(pool_size=(2, 2)))\n",
        "\n",
        "###\n",
        "###\n",
        "### TODO: ADD MORE LAYERS HERE!!!!!\n",
        "###\n",
        "###\n",
        "\n",
        "model.add(Flatten())\n",
        "model.add(Dense(512))\n",
        "model.add(Activation('relu'))\n",
        "model.add(Dense(2))\n",
        "model.add(Activation('softmax'))\n",
        "\n",
        "# initiate RMSprop optimizer\n",
        "opt = keras.optimizers.RMSprop(lr=0.0001, decay=1e-6)\n",
        "\n",
        "# Let's train the model using RMSprop\n",
        "model.compile(loss='categorical_crossentropy',\n",
        "              optimizer=opt,\n",
        "              metrics=['accuracy'])\n",
        "\n",
        "# Train the CNN and plot accuracy.\n",
        "history = model.fit(inputs_train, labels_train, \\\n",
        "                    validation_data=(inputs_test, labels_test), \\\n",
        "                    epochs=85)\n",
        "plot_acc(history)\n"
      ],
      "execution_count": null,
      "outputs": [
        {
          "output_type": "stream",
          "text": [
            "/usr/local/lib/python3.7/dist-packages/tensorflow/python/keras/optimizer_v2/optimizer_v2.py:375: UserWarning: The `lr` argument is deprecated, use `learning_rate` instead.\n",
            "  \"The `lr` argument is deprecated, use `learning_rate` instead.\")\n"
          ],
          "name": "stderr"
        },
        {
          "output_type": "stream",
          "text": [
            "Epoch 1/85\n",
            "30/30 [==============================] - 3s 36ms/step - loss: 34.0999 - accuracy: 0.6460 - val_loss: 10.3773 - val_accuracy: 0.6167\n",
            "Epoch 2/85\n",
            "30/30 [==============================] - 0s 10ms/step - loss: 6.2247 - accuracy: 0.7815 - val_loss: 4.1493 - val_accuracy: 0.7583\n",
            "Epoch 3/85\n",
            "30/30 [==============================] - 0s 7ms/step - loss: 2.0044 - accuracy: 0.8805 - val_loss: 0.7876 - val_accuracy: 0.9208\n",
            "Epoch 4/85\n",
            "30/30 [==============================] - 0s 7ms/step - loss: 1.0227 - accuracy: 0.9038 - val_loss: 0.8823 - val_accuracy: 0.9292\n",
            "Epoch 5/85\n",
            "30/30 [==============================] - 0s 8ms/step - loss: 0.6053 - accuracy: 0.9328 - val_loss: 0.4773 - val_accuracy: 0.9458\n",
            "Epoch 6/85\n",
            "30/30 [==============================] - 0s 7ms/step - loss: 0.3218 - accuracy: 0.9595 - val_loss: 0.4120 - val_accuracy: 0.9625\n",
            "Epoch 7/85\n",
            "30/30 [==============================] - 0s 7ms/step - loss: 0.1413 - accuracy: 0.9797 - val_loss: 0.5393 - val_accuracy: 0.9208\n",
            "Epoch 8/85\n",
            "30/30 [==============================] - 0s 9ms/step - loss: 0.1260 - accuracy: 0.9746 - val_loss: 0.3565 - val_accuracy: 0.9583\n",
            "Epoch 9/85\n",
            "30/30 [==============================] - 0s 7ms/step - loss: 0.0634 - accuracy: 0.9874 - val_loss: 0.4795 - val_accuracy: 0.9500\n",
            "Epoch 10/85\n",
            "30/30 [==============================] - 0s 7ms/step - loss: 0.2495 - accuracy: 0.9744 - val_loss: 0.5338 - val_accuracy: 0.9333\n",
            "Epoch 11/85\n",
            "30/30 [==============================] - 0s 7ms/step - loss: 0.0146 - accuracy: 0.9939 - val_loss: 0.3726 - val_accuracy: 0.9542\n",
            "Epoch 12/85\n",
            "30/30 [==============================] - 0s 7ms/step - loss: 0.0996 - accuracy: 0.9838 - val_loss: 0.4449 - val_accuracy: 0.9500\n",
            "Epoch 13/85\n",
            "30/30 [==============================] - 0s 7ms/step - loss: 9.2328e-04 - accuracy: 1.0000 - val_loss: 0.3743 - val_accuracy: 0.9542\n",
            "Epoch 14/85\n",
            "30/30 [==============================] - 0s 7ms/step - loss: 2.7178e-04 - accuracy: 1.0000 - val_loss: 0.4041 - val_accuracy: 0.9542\n",
            "Epoch 15/85\n",
            "30/30 [==============================] - 0s 7ms/step - loss: 3.6983e-05 - accuracy: 1.0000 - val_loss: 0.4161 - val_accuracy: 0.9542\n",
            "Epoch 16/85\n",
            "30/30 [==============================] - 0s 7ms/step - loss: 0.0650 - accuracy: 0.9898 - val_loss: 0.4177 - val_accuracy: 0.9542\n",
            "Epoch 17/85\n",
            "30/30 [==============================] - 0s 9ms/step - loss: 8.7739e-05 - accuracy: 1.0000 - val_loss: 0.4279 - val_accuracy: 0.9500\n",
            "Epoch 18/85\n",
            "30/30 [==============================] - 0s 7ms/step - loss: 1.8403e-05 - accuracy: 1.0000 - val_loss: 0.4464 - val_accuracy: 0.9500\n",
            "Epoch 19/85\n",
            "30/30 [==============================] - 0s 7ms/step - loss: 4.3779e-06 - accuracy: 1.0000 - val_loss: 0.5873 - val_accuracy: 0.9125\n",
            "Epoch 20/85\n",
            "30/30 [==============================] - 0s 9ms/step - loss: 0.4097 - accuracy: 0.9608 - val_loss: 0.4178 - val_accuracy: 0.9542\n",
            "Epoch 21/85\n",
            "30/30 [==============================] - 0s 7ms/step - loss: 1.1147e-05 - accuracy: 1.0000 - val_loss: 0.4205 - val_accuracy: 0.9542\n",
            "Epoch 22/85\n",
            "30/30 [==============================] - 0s 7ms/step - loss: 7.1861e-06 - accuracy: 1.0000 - val_loss: 0.4299 - val_accuracy: 0.9542\n",
            "Epoch 23/85\n",
            "30/30 [==============================] - 0s 7ms/step - loss: 4.3989e-06 - accuracy: 1.0000 - val_loss: 0.4364 - val_accuracy: 0.9542\n",
            "Epoch 24/85\n",
            "30/30 [==============================] - 0s 9ms/step - loss: 1.0712e-06 - accuracy: 1.0000 - val_loss: 0.4354 - val_accuracy: 0.9583\n",
            "Epoch 25/85\n",
            "30/30 [==============================] - 0s 7ms/step - loss: 7.9475e-07 - accuracy: 1.0000 - val_loss: 0.7498 - val_accuracy: 0.9375\n",
            "Epoch 26/85\n",
            "30/30 [==============================] - 0s 7ms/step - loss: 0.3343 - accuracy: 0.9608 - val_loss: 0.5545 - val_accuracy: 0.9458\n",
            "Epoch 27/85\n",
            "30/30 [==============================] - 0s 7ms/step - loss: 2.9633e-06 - accuracy: 1.0000 - val_loss: 0.5479 - val_accuracy: 0.9417\n",
            "Epoch 28/85\n",
            "30/30 [==============================] - 0s 7ms/step - loss: 6.2296e-07 - accuracy: 1.0000 - val_loss: 0.5369 - val_accuracy: 0.9458\n",
            "Epoch 29/85\n",
            "30/30 [==============================] - 0s 7ms/step - loss: 7.2090e-07 - accuracy: 1.0000 - val_loss: 0.5493 - val_accuracy: 0.9417\n",
            "Epoch 30/85\n",
            "30/30 [==============================] - 0s 7ms/step - loss: 3.5977e-07 - accuracy: 1.0000 - val_loss: 0.5515 - val_accuracy: 0.9417\n",
            "Epoch 31/85\n",
            "30/30 [==============================] - 0s 7ms/step - loss: 8.6258e-08 - accuracy: 1.0000 - val_loss: 0.5372 - val_accuracy: 0.9458\n",
            "Epoch 32/85\n",
            "30/30 [==============================] - 0s 7ms/step - loss: 0.0181 - accuracy: 0.9983 - val_loss: 0.7497 - val_accuracy: 0.9250\n",
            "Epoch 33/85\n",
            "30/30 [==============================] - 0s 7ms/step - loss: 1.5614e-04 - accuracy: 1.0000 - val_loss: 0.6775 - val_accuracy: 0.9458\n",
            "Epoch 34/85\n",
            "30/30 [==============================] - 0s 7ms/step - loss: 3.2469e-07 - accuracy: 1.0000 - val_loss: 0.6791 - val_accuracy: 0.9458\n",
            "Epoch 35/85\n",
            "30/30 [==============================] - 0s 9ms/step - loss: 2.2967e-07 - accuracy: 1.0000 - val_loss: 0.6783 - val_accuracy: 0.9458\n",
            "Epoch 36/85\n",
            "30/30 [==============================] - 0s 7ms/step - loss: 1.3517e-07 - accuracy: 1.0000 - val_loss: 0.6798 - val_accuracy: 0.9458\n",
            "Epoch 37/85\n",
            "30/30 [==============================] - 0s 7ms/step - loss: 1.0357e-07 - accuracy: 1.0000 - val_loss: 0.6844 - val_accuracy: 0.9458\n",
            "Epoch 38/85\n",
            "30/30 [==============================] - 0s 8ms/step - loss: 5.9911e-08 - accuracy: 1.0000 - val_loss: 0.6869 - val_accuracy: 0.9458\n",
            "Epoch 39/85\n",
            "30/30 [==============================] - 0s 7ms/step - loss: 2.9569e-08 - accuracy: 1.0000 - val_loss: 0.6847 - val_accuracy: 0.9458\n",
            "Epoch 40/85\n",
            "30/30 [==============================] - 0s 7ms/step - loss: 1.5897e-08 - accuracy: 1.0000 - val_loss: 0.6885 - val_accuracy: 0.9417\n",
            "Epoch 41/85\n",
            "30/30 [==============================] - 0s 7ms/step - loss: 8.5047e-09 - accuracy: 1.0000 - val_loss: 0.6832 - val_accuracy: 0.9417\n",
            "Epoch 42/85\n",
            "30/30 [==============================] - 0s 7ms/step - loss: 0.1813 - accuracy: 0.9824 - val_loss: 0.6547 - val_accuracy: 0.9375\n",
            "Epoch 43/85\n",
            "30/30 [==============================] - 0s 7ms/step - loss: 0.0010 - accuracy: 1.0000 - val_loss: 0.6988 - val_accuracy: 0.9417\n",
            "Epoch 44/85\n",
            "30/30 [==============================] - 0s 7ms/step - loss: 2.4511e-07 - accuracy: 1.0000 - val_loss: 0.6780 - val_accuracy: 0.9375\n",
            "Epoch 45/85\n",
            "30/30 [==============================] - 0s 7ms/step - loss: 1.0530e-07 - accuracy: 1.0000 - val_loss: 0.6601 - val_accuracy: 0.9375\n",
            "Epoch 46/85\n",
            "30/30 [==============================] - 0s 8ms/step - loss: 6.7500e-08 - accuracy: 1.0000 - val_loss: 0.6544 - val_accuracy: 0.9417\n",
            "Epoch 47/85\n",
            "30/30 [==============================] - 0s 7ms/step - loss: 5.3631e-08 - accuracy: 1.0000 - val_loss: 0.6495 - val_accuracy: 0.9417\n",
            "Epoch 48/85\n",
            "30/30 [==============================] - 0s 7ms/step - loss: 3.5908e-08 - accuracy: 1.0000 - val_loss: 0.6455 - val_accuracy: 0.9417\n",
            "Epoch 49/85\n",
            "30/30 [==============================] - 0s 7ms/step - loss: 1.7887e-08 - accuracy: 1.0000 - val_loss: 0.6435 - val_accuracy: 0.9417\n",
            "Epoch 50/85\n",
            "30/30 [==============================] - 0s 7ms/step - loss: 1.1834e-08 - accuracy: 1.0000 - val_loss: 0.6557 - val_accuracy: 0.9375\n",
            "Epoch 51/85\n",
            "30/30 [==============================] - 0s 7ms/step - loss: 3.9938e-09 - accuracy: 1.0000 - val_loss: 0.6707 - val_accuracy: 0.9375\n",
            "Epoch 52/85\n",
            "30/30 [==============================] - 0s 7ms/step - loss: 6.6610e-10 - accuracy: 1.0000 - val_loss: 0.6698 - val_accuracy: 0.9375\n",
            "Epoch 53/85\n",
            "30/30 [==============================] - 0s 7ms/step - loss: 3.1507e-10 - accuracy: 1.0000 - val_loss: 0.6903 - val_accuracy: 0.9417\n",
            "Epoch 54/85\n",
            "30/30 [==============================] - 0s 7ms/step - loss: 3.8165e-10 - accuracy: 1.0000 - val_loss: 0.6814 - val_accuracy: 0.9417\n",
            "Epoch 55/85\n",
            "30/30 [==============================] - 0s 7ms/step - loss: 4.6417e-11 - accuracy: 1.0000 - val_loss: 0.6831 - val_accuracy: 0.9458\n",
            "Epoch 56/85\n",
            "30/30 [==============================] - 0s 7ms/step - loss: 3.0383e-10 - accuracy: 1.0000 - val_loss: 0.6961 - val_accuracy: 0.9458\n",
            "Epoch 57/85\n",
            "30/30 [==============================] - 0s 7ms/step - loss: 0.0000e+00 - accuracy: 1.0000 - val_loss: 0.6997 - val_accuracy: 0.9417\n",
            "Epoch 58/85\n",
            "30/30 [==============================] - 0s 7ms/step - loss: 6.0853e-11 - accuracy: 1.0000 - val_loss: 0.6957 - val_accuracy: 0.9417\n",
            "Epoch 59/85\n",
            "30/30 [==============================] - 0s 7ms/step - loss: 0.0000e+00 - accuracy: 1.0000 - val_loss: 0.6995 - val_accuracy: 0.9458\n",
            "Epoch 60/85\n",
            "30/30 [==============================] - 0s 8ms/step - loss: 0.0000e+00 - accuracy: 1.0000 - val_loss: 0.7020 - val_accuracy: 0.9458\n",
            "Epoch 61/85\n",
            "30/30 [==============================] - 0s 7ms/step - loss: 0.0000e+00 - accuracy: 1.0000 - val_loss: 0.7028 - val_accuracy: 0.9417\n",
            "Epoch 62/85\n",
            "30/30 [==============================] - 0s 9ms/step - loss: 0.0000e+00 - accuracy: 1.0000 - val_loss: 0.6998 - val_accuracy: 0.9458\n",
            "Epoch 63/85\n",
            "30/30 [==============================] - 0s 7ms/step - loss: 0.0000e+00 - accuracy: 1.0000 - val_loss: 0.7025 - val_accuracy: 0.9458\n",
            "Epoch 64/85\n",
            "30/30 [==============================] - 0s 8ms/step - loss: 0.0000e+00 - accuracy: 1.0000 - val_loss: 0.6999 - val_accuracy: 0.9458\n",
            "Epoch 65/85\n",
            "30/30 [==============================] - 0s 7ms/step - loss: 0.0000e+00 - accuracy: 1.0000 - val_loss: 0.7029 - val_accuracy: 0.9417\n",
            "Epoch 66/85\n",
            "30/30 [==============================] - 0s 8ms/step - loss: 0.0000e+00 - accuracy: 1.0000 - val_loss: 0.7009 - val_accuracy: 0.9458\n",
            "Epoch 67/85\n",
            "30/30 [==============================] - 0s 7ms/step - loss: 0.0000e+00 - accuracy: 1.0000 - val_loss: 0.7006 - val_accuracy: 0.9458\n",
            "Epoch 68/85\n",
            "30/30 [==============================] - 0s 9ms/step - loss: 0.0000e+00 - accuracy: 1.0000 - val_loss: 0.7003 - val_accuracy: 0.9458\n",
            "Epoch 69/85\n",
            "30/30 [==============================] - 0s 7ms/step - loss: 0.0000e+00 - accuracy: 1.0000 - val_loss: 0.6986 - val_accuracy: 0.9458\n",
            "Epoch 70/85\n",
            "30/30 [==============================] - 0s 7ms/step - loss: 0.0000e+00 - accuracy: 1.0000 - val_loss: 0.6983 - val_accuracy: 0.9458\n",
            "Epoch 71/85\n",
            "30/30 [==============================] - 0s 7ms/step - loss: 0.0000e+00 - accuracy: 1.0000 - val_loss: 0.6981 - val_accuracy: 0.9458\n",
            "Epoch 72/85\n",
            "30/30 [==============================] - 0s 9ms/step - loss: 0.0000e+00 - accuracy: 1.0000 - val_loss: 0.7000 - val_accuracy: 0.9458\n",
            "Epoch 73/85\n",
            "30/30 [==============================] - 0s 9ms/step - loss: 0.0000e+00 - accuracy: 1.0000 - val_loss: 0.6992 - val_accuracy: 0.9458\n",
            "Epoch 74/85\n",
            "30/30 [==============================] - 0s 8ms/step - loss: 0.0000e+00 - accuracy: 1.0000 - val_loss: 0.6988 - val_accuracy: 0.9458\n",
            "Epoch 75/85\n",
            "30/30 [==============================] - 0s 7ms/step - loss: 0.0000e+00 - accuracy: 1.0000 - val_loss: 0.7003 - val_accuracy: 0.9500\n",
            "Epoch 76/85\n",
            "30/30 [==============================] - 0s 7ms/step - loss: 0.0000e+00 - accuracy: 1.0000 - val_loss: 0.7000 - val_accuracy: 0.9500\n",
            "Epoch 77/85\n",
            "30/30 [==============================] - 0s 7ms/step - loss: 0.0000e+00 - accuracy: 1.0000 - val_loss: 0.6978 - val_accuracy: 0.9458\n",
            "Epoch 78/85\n",
            "30/30 [==============================] - 0s 7ms/step - loss: 0.0000e+00 - accuracy: 1.0000 - val_loss: 0.7004 - val_accuracy: 0.9500\n",
            "Epoch 79/85\n",
            "30/30 [==============================] - 0s 7ms/step - loss: 0.0000e+00 - accuracy: 1.0000 - val_loss: 0.6982 - val_accuracy: 0.9458\n",
            "Epoch 80/85\n",
            "30/30 [==============================] - 0s 7ms/step - loss: 0.0000e+00 - accuracy: 1.0000 - val_loss: 0.7003 - val_accuracy: 0.9500\n",
            "Epoch 81/85\n",
            "30/30 [==============================] - 0s 9ms/step - loss: 0.0000e+00 - accuracy: 1.0000 - val_loss: 0.6974 - val_accuracy: 0.9458\n",
            "Epoch 82/85\n",
            "30/30 [==============================] - 0s 7ms/step - loss: 0.0000e+00 - accuracy: 1.0000 - val_loss: 0.6983 - val_accuracy: 0.9500\n",
            "Epoch 83/85\n",
            "30/30 [==============================] - 0s 7ms/step - loss: 0.0000e+00 - accuracy: 1.0000 - val_loss: 0.6963 - val_accuracy: 0.9458\n",
            "Epoch 84/85\n",
            "30/30 [==============================] - 0s 7ms/step - loss: 0.0000e+00 - accuracy: 1.0000 - val_loss: 0.7007 - val_accuracy: 0.9500\n",
            "Epoch 85/85\n",
            "30/30 [==============================] - 0s 7ms/step - loss: 0.0000e+00 - accuracy: 1.0000 - val_loss: 0.6984 - val_accuracy: 0.9500\n"
          ],
          "name": "stdout"
        },
        {
          "output_type": "display_data",
          "data": {
            "image/png": "[encoded data removed]",
            "text/plain": [
              "<Figure size 432x288 with 1 Axes>"
            ]
          },
          "metadata": {
            "tags": [],
            "needs_background": "light"
          }
        }
      ]
    },
    {
      "cell_type": "markdown",
      "metadata": {
        "id": "9JFLu0CdXM6K"
      },
      "source": [
        "**What interesting observations** do you make from the graph? How many epochs should you train for?\n",
        "\n",
        "We can also print out the structure of our model. What do the parts of the summary mean?"
      ]
    },
    {
      "cell_type": "code",
      "metadata": {
        "id": "RGwXs3C8YZl-",
        "colab": {
          "base_uri": "https://localhost:8080/"
        },
        "outputId": "f6bf84bb-ec4f-46a3-9679-e2103f8d1628"
      },
      "source": [
        "model.summary()"
      ],
      "execution_count": null,
      "outputs": [
        {
          "output_type": "stream",
          "text": [
            "Model: \"sequential_19\"\n",
            "_________________________________________________________________\n",
            "Layer (type)                 Output Shape              Param #   \n",
            "=================================================================\n",
            "reshape_16 (Reshape)         (None, 32, 32, 3)         0         \n",
            "_________________________________________________________________\n",
            "conv2d_59 (Conv2D)           (None, 32, 32, 32)        896       \n",
            "_________________________________________________________________\n",
            "activation_91 (Activation)   (None, 32, 32, 32)        0         \n",
            "_________________________________________________________________\n",
            "conv2d_60 (Conv2D)           (None, 32, 32, 32)        9248      \n",
            "_________________________________________________________________\n",
            "activation_92 (Activation)   (None, 32, 32, 32)        0         \n",
            "_________________________________________________________________\n",
            "conv2d_61 (Conv2D)           (None, 32, 32, 32)        9248      \n",
            "_________________________________________________________________\n",
            "activation_93 (Activation)   (None, 32, 32, 32)        0         \n",
            "_________________________________________________________________\n",
            "max_pooling2d_23 (MaxPooling (None, 16, 16, 32)        0         \n",
            "_________________________________________________________________\n",
            "flatten_16 (Flatten)         (None, 8192)              0         \n",
            "_________________________________________________________________\n",
            "dense_37 (Dense)             (None, 512)               4194816   \n",
            "_________________________________________________________________\n",
            "activation_94 (Activation)   (None, 512)               0         \n",
            "_________________________________________________________________\n",
            "dense_38 (Dense)             (None, 2)                 1026      \n",
            "_________________________________________________________________\n",
            "activation_95 (Activation)   (None, 2)                 0         \n",
            "=================================================================\n",
            "Total params: 4,215,234\n",
            "Trainable params: 4,215,234\n",
            "Non-trainable params: 0\n",
            "_________________________________________________________________\n"
          ],
          "name": "stdout"
        }
      ]
    },
    {
      "cell_type": "markdown",
      "metadata": {
        "id": "YXINPAJvRr9W"
      },
      "source": [
        "#Advanced: Cats vs. Dogs with CNN\n",
        "\n",
        "So far, we've trained a CNN to distinguish between small images of cats and small images of dogs. It's more challenging and time-consuming to train CNNs for bigger images or harder tasks, like distinguishing dogs from cats (which look a lot more like dogs than roads do!)\n",
        "\n",
        "In this exercise, you'll adapt your previous model to classify large images of dogs vs. cats, and then try implementing a famous CNN architecture. Along the way, you'll deal with some of the debugging that machine learning engineers often have to handle."
      ]
    },
    {
      "cell_type": "code",
      "metadata": {
        "id": "6gU39z3jNMAt",
        "colab": {
          "base_uri": "https://localhost:8080/"
        },
        "outputId": "eb3021db-ecb3-4405-a313-5f68635bbb8f"
      },
      "source": [
        "#@title Run this to load cat and dog data. { display-mode: \"form\" }\n",
        "\n",
        "#Code here from https://colab.research.google.com/github/google/eng-edu/blob/master/ml/pc/exercises/image_classification_part1.ipynb#scrollTo=4PIP1rkmeAYS\n",
        "\n",
        "import tensorflow as tf\n",
        "import os\n",
        "from tensorflow.keras.preprocessing.image import ImageDataGenerator\n",
        "from google.colab.patches import cv2_imshow\n",
        "import cv2\n",
        "import matplotlib.pyplot as plt\n",
        "\n",
        "try:\n",
        "  road_model = model\n",
        "  road_saved = True\n",
        "except NameError:\n",
        "  road_saved = False\n",
        "\n",
        "IMG_SHAPE  = 150  # Our training data consists of images with width of 150 pixels and height of 150 pixels\n",
        "_URL = 'https://storage.googleapis.com/mledu-datasets/cats_and_dogs_filtered.zip'\n",
        "zip_dir = tf.keras.utils.get_file('cats_and_dogs_filterted.zip', origin=_URL, extract=True)\n",
        "base_dir = os.path.join(os.path.dirname(zip_dir), 'cats_and_dogs_filtered')\n",
        "train_dir = os.path.join(base_dir, 'train')\n",
        "validation_dir = os.path.join(base_dir, 'validation')\n",
        "\n",
        "train_cats_dir = os.path.join(train_dir, 'cats')  # directory with our training cat pictures\n",
        "train_dogs_dir = os.path.join(train_dir, 'dogs')  # directory with our training dog pictures\n",
        "validation_cats_dir = os.path.join(validation_dir, 'cats')  # directory with our validation cat pictures\n",
        "validation_dogs_dir = os.path.join(validation_dir, 'dogs')  # directory with our validation dog pictures\n",
        "train_image_generator      = ImageDataGenerator()  # Generator for our training data\n",
        "validation_image_generator = ImageDataGenerator()  # Generator for our validation data\n",
        "train_data = train_image_generator.flow_from_directory(batch_size=2000,\n",
        "                                                           directory=train_dir,\n",
        "                                                           shuffle=True,\n",
        "                                                           target_size=(IMG_SHAPE,IMG_SHAPE), #(150,150)\n",
        "                                                           class_mode='binary').next()\n",
        "val_data = validation_image_generator.flow_from_directory(batch_size=1000,\n",
        "                                                              directory=validation_dir,\n",
        "                                                              shuffle=False,\n",
        "                                                              target_size=(IMG_SHAPE,IMG_SHAPE), #(150,150)\n",
        "\n",
        "                                                              class_mode='binary').next()\n",
        "cd_train_inputs, cd_train_labels = train_data\n",
        "cd_test_inputs, cd_test_labels = val_data"
      ],
      "execution_count": null,
      "outputs": [
        {
          "output_type": "stream",
          "text": [
            "Downloading data from https://storage.googleapis.com/mledu-datasets/cats_and_dogs_filtered.zip\n",
            "68608000/68606236 [==============================] - 1s 0us/step\n",
            "Found 2000 images belonging to 2 classes.\n",
            "Found 1000 images belonging to 2 classes.\n"
          ],
          "name": "stdout"
        }
      ]
    },
    {
      "cell_type": "markdown",
      "metadata": {
        "id": "1y5etOJwScaG"
      },
      "source": [
        "**Run the code below to see the dimensions of our training and validation data. What does each number mean? What is different than our previous dataset?**"
      ]
    },
    {
      "cell_type": "code",
      "metadata": {
        "id": "kjdedJ0VNvWg",
        "colab": {
          "base_uri": "https://localhost:8080/"
        },
        "outputId": "5908a50b-9225-4428-8e3a-2f4b5164b503"
      },
      "source": [
        "print (cd_train_inputs.shape)\n",
        "print (cd_train_labels.shape)\n",
        "print (cd_test_inputs.shape)\n",
        "print (cd_test_labels.shape)"
      ],
      "execution_count": null,
      "outputs": [
        {
          "output_type": "stream",
          "text": [
            "(2000, 150, 150, 3)\n",
            "(2000,)\n",
            "(1000, 150, 150, 3)\n",
            "(1000,)\n"
          ],
          "name": "stdout"
        }
      ]
    },
    {
      "cell_type": "markdown",
      "metadata": {
        "id": "qIAkgOqWTAL7"
      },
      "source": [
        "**Run this code to see a random image from our training data (different each time).**"
      ]
    },
    {
      "cell_type": "code",
      "metadata": {
        "id": "HooiJ-RrQPcA",
        "colab": {
          "base_uri": "https://localhost:8080/",
          "height": 286
        },
        "outputId": "140386a7-94c0-4fa4-b9dc-e0def595b826"
      },
      "source": [
        "index = np.random.randint(len(cd_train_inputs))\n",
        "plt.imshow(cd_train_inputs[index]/255)\n",
        "plt.show()\n",
        "print(\"Label:\",cd_train_labels[index])"
      ],
      "execution_count": null,
      "outputs": [
        {
          "output_type": "display_data",
          "data": {
            "image/png": "[encoded data removed]",
            "text/plain": [
              "<Figure size 432x288 with 1 Axes>"
            ]
          },
          "metadata": {
            "tags": [],
            "needs_background": "light"
          }
        },
        {
          "output_type": "stream",
          "text": [
            "Label: 1.0\n"
          ],
          "name": "stdout"
        }
      ]
    },
    {
      "cell_type": "markdown",
      "metadata": {
        "id": "HOwP9kX9UshH"
      },
      "source": [
        "**By adapting code from the previous exercise, build, train, and test a CNN to classify cats vs. dogs.**\n",
        "**Hints:**\n",
        "*   Use print(model.summary()) for a useful visualization of your model's architecture. Compare the summary of your cat/road and cat/dog classifiers.\n",
        "*  Substitute the names of the new datasets.\n",
        "*  Get a \"first try\" working by making small adjustments to a previous model before trying to optimize the accuracy. You can temporarily comment out layers as you figure things out.\n",
        "*  The outputs have different shapes betweeen the two datasets. What do you need to change? (You will get an ValueError that suggests how to transform the output to a one-hot encoding.)\n",
        "*  If you run out of memory, restart the notebook and/or use your knowledge of convolution arithmetic to reduce the size of an intermediate output (see [Keras documentation](https://www.tensorflow.org/api_docs/python/tf/keras/layers/Conv2D)).\n",
        "* Dropout layers help reduce overfitting.\n"
      ]
    },
    {
      "cell_type": "code",
      "metadata": {
        "id": "AeuqlzigZZ8I",
        "colab": {
          "base_uri": "https://localhost:8080/",
          "height": 1000
        },
        "outputId": "e0ebae8d-9406-4af5-802b-ad84fb40089a"
      },
      "source": [
        "from keras.utils.np_utils import to_categorical\n",
        "\n",
        "model = Sequential()\n",
        "#TODO: Your code here to build, train, and test a cats vs. dogs CNN!\n",
        "#If you run into errors, see the hints above for help debugging!\n",
        "#\n",
        "model = Sequential()\n",
        "\n",
        "model.add(Conv2D(32, (3, 3), padding='same'))\n",
        "model.add(Activation('relu'))\n",
        "\n",
        "Dropout(0.7)\n",
        "\n",
        "model.add(Conv2D(32, (3, 3), padding='same'))\n",
        "model.add(Activation('relu'))\n",
        "\n",
        "Dropout(0.6)\n",
        "\n",
        "model.add(Conv2D(32, (3, 3), padding='same'))\n",
        "model.add(Activation('relu'))\n",
        "Dropout(0.8)\n",
        "\n",
        "model.add(MaxPooling2D(pool_size=(2, 2)))\n",
        "\n",
        "###\n",
        "###\n",
        "### TODO: ADD MORE LAYERS HERE!!!!!\n",
        "###\n",
        "###\n",
        "\n",
        "model.add(Flatten())\n",
        "model.add(Dense(512))\n",
        "model.add(Activation('relu'))\n",
        "model.add(Dense(2))\n",
        "model.add(Activation('softmax'))\n",
        "\n",
        "# initiate RMSprop optimizer\n",
        "opt = keras.optimizers.RMSprop(lr=0.0001, decay=1e-6)\n",
        "\n",
        "# Let's train the model using RMSprop\n",
        "model.compile(loss='categorical_crossentropy',\n",
        "              optimizer=opt,\n",
        "              metrics=['accuracy'])\n",
        "\n",
        "# Train the CNN and plot accuracy.\n",
        "history = model.fit(cd_train_inputs, to_categorical(cd_train_labels), \\\n",
        "                    validation_data=(cd_test_inputs, to_categorical(cd_test_labels)), \\\n",
        "                    epochs=85)\n",
        "plot_acc(history)\n",
        "\n"
      ],
      "execution_count": null,
      "outputs": [
        {
          "output_type": "stream",
          "text": [
            "/usr/local/lib/python3.7/dist-packages/tensorflow/python/keras/optimizer_v2/optimizer_v2.py:375: UserWarning: The `lr` argument is deprecated, use `learning_rate` instead.\n",
            "  \"The `lr` argument is deprecated, use `learning_rate` instead.\")\n"
          ],
          "name": "stderr"
        },
        {
          "output_type": "stream",
          "text": [
            "Epoch 1/85\n",
            "63/63 [==============================] - 9s 104ms/step - loss: 100.6476 - accuracy: 0.4777 - val_loss: 3.2681 - val_accuracy: 0.5240\n",
            "Epoch 2/85\n",
            "63/63 [==============================] - 6s 92ms/step - loss: 1.7501 - accuracy: 0.6494 - val_loss: 0.7038 - val_accuracy: 0.6590\n",
            "Epoch 3/85\n",
            "63/63 [==============================] - 6s 92ms/step - loss: 0.4608 - accuracy: 0.7882 - val_loss: 0.7039 - val_accuracy: 0.6680\n",
            "Epoch 4/85\n",
            "63/63 [==============================] - 6s 93ms/step - loss: 0.1255 - accuracy: 0.9661 - val_loss: 0.9178 - val_accuracy: 0.6610\n",
            "Epoch 5/85\n",
            "63/63 [==============================] - 6s 95ms/step - loss: 0.0354 - accuracy: 0.9895 - val_loss: 1.1200 - val_accuracy: 0.6520\n",
            "Epoch 6/85\n",
            "63/63 [==============================] - 6s 93ms/step - loss: 0.0246 - accuracy: 0.9962 - val_loss: 1.0212 - val_accuracy: 0.6710\n",
            "Epoch 7/85\n",
            "63/63 [==============================] - 6s 93ms/step - loss: 0.0065 - accuracy: 0.9991 - val_loss: 1.0277 - val_accuracy: 0.6420\n",
            "Epoch 8/85\n",
            "63/63 [==============================] - 6s 93ms/step - loss: 0.0034 - accuracy: 0.9996 - val_loss: 1.1203 - val_accuracy: 0.6760\n",
            "Epoch 9/85\n",
            "63/63 [==============================] - 6s 96ms/step - loss: 2.2489e-04 - accuracy: 1.0000 - val_loss: 1.5086 - val_accuracy: 0.6810\n",
            "Epoch 10/85\n",
            "63/63 [==============================] - 6s 94ms/step - loss: 8.3252e-06 - accuracy: 1.0000 - val_loss: 1.8332 - val_accuracy: 0.6700\n",
            "Epoch 11/85\n",
            "63/63 [==============================] - 6s 93ms/step - loss: 1.3101e-06 - accuracy: 1.0000 - val_loss: 2.0079 - val_accuracy: 0.6730\n",
            "Epoch 12/85\n",
            "63/63 [==============================] - 6s 94ms/step - loss: 1.7312e-08 - accuracy: 1.0000 - val_loss: 2.2435 - val_accuracy: 0.6780\n",
            "Epoch 13/85\n",
            "63/63 [==============================] - 6s 93ms/step - loss: 1.7156e-09 - accuracy: 1.0000 - val_loss: 2.4066 - val_accuracy: 0.6910\n",
            "Epoch 14/85\n",
            "63/63 [==============================] - 6s 93ms/step - loss: 0.2502 - accuracy: 0.9902 - val_loss: 1.4739 - val_accuracy: 0.6740\n",
            "Epoch 15/85\n",
            "63/63 [==============================] - 6s 93ms/step - loss: 6.5568e-06 - accuracy: 1.0000 - val_loss: 1.5929 - val_accuracy: 0.6810\n",
            "Epoch 16/85\n",
            "63/63 [==============================] - 6s 94ms/step - loss: 6.1775e-07 - accuracy: 1.0000 - val_loss: 1.6486 - val_accuracy: 0.6750\n",
            "Epoch 17/85\n",
            "63/63 [==============================] - 6s 94ms/step - loss: 1.5411e-07 - accuracy: 1.0000 - val_loss: 1.7773 - val_accuracy: 0.6770\n",
            "Epoch 18/85\n",
            "63/63 [==============================] - 6s 94ms/step - loss: 2.2162e-08 - accuracy: 1.0000 - val_loss: 1.9918 - val_accuracy: 0.6850\n",
            "Epoch 19/85\n",
            "63/63 [==============================] - 6s 94ms/step - loss: 1.3303e-09 - accuracy: 1.0000 - val_loss: 2.2321 - val_accuracy: 0.6910\n",
            "Epoch 20/85\n",
            "63/63 [==============================] - 6s 94ms/step - loss: 2.2312e-10 - accuracy: 1.0000 - val_loss: 2.3817 - val_accuracy: 0.6820\n",
            "Epoch 21/85\n",
            "63/63 [==============================] - 6s 94ms/step - loss: 6.2664e-10 - accuracy: 1.0000 - val_loss: 2.6198 - val_accuracy: 0.6920\n",
            "Epoch 22/85\n",
            "63/63 [==============================] - 6s 94ms/step - loss: 2.0297e-09 - accuracy: 1.0000 - val_loss: 2.5044 - val_accuracy: 0.6940\n",
            "Epoch 23/85\n",
            "63/63 [==============================] - 6s 94ms/step - loss: 3.7557e-12 - accuracy: 1.0000 - val_loss: 2.6534 - val_accuracy: 0.6950\n",
            "Epoch 24/85\n",
            "63/63 [==============================] - 6s 94ms/step - loss: 4.3189e-10 - accuracy: 1.0000 - val_loss: 2.6752 - val_accuracy: 0.6950\n",
            "Epoch 25/85\n",
            "63/63 [==============================] - 6s 94ms/step - loss: 3.9885e-11 - accuracy: 1.0000 - val_loss: 2.8201 - val_accuracy: 0.6970\n",
            "Epoch 26/85\n",
            "63/63 [==============================] - 6s 94ms/step - loss: 2.3810e-10 - accuracy: 1.0000 - val_loss: 2.7463 - val_accuracy: 0.6870\n",
            "Epoch 27/85\n",
            "63/63 [==============================] - 6s 94ms/step - loss: 3.0204e-11 - accuracy: 1.0000 - val_loss: 2.7911 - val_accuracy: 0.6920\n",
            "Epoch 28/85\n",
            "63/63 [==============================] - 6s 94ms/step - loss: 9.5529e-11 - accuracy: 1.0000 - val_loss: 2.8507 - val_accuracy: 0.6930\n",
            "Epoch 29/85\n",
            "63/63 [==============================] - 6s 94ms/step - loss: 9.8349e-12 - accuracy: 1.0000 - val_loss: 2.9718 - val_accuracy: 0.6890\n",
            "Epoch 30/85\n",
            "63/63 [==============================] - 6s 94ms/step - loss: 3.0329e-11 - accuracy: 1.0000 - val_loss: 3.0383 - val_accuracy: 0.6920\n",
            "Epoch 31/85\n",
            "63/63 [==============================] - 6s 95ms/step - loss: 3.4506e-09 - accuracy: 1.0000 - val_loss: 2.8545 - val_accuracy: 0.6880\n",
            "Epoch 32/85\n",
            "63/63 [==============================] - 6s 94ms/step - loss: 0.0000e+00 - accuracy: 1.0000 - val_loss: 2.9278 - val_accuracy: 0.6870\n",
            "Epoch 33/85\n",
            "63/63 [==============================] - 6s 94ms/step - loss: 1.9522e-11 - accuracy: 1.0000 - val_loss: 2.9937 - val_accuracy: 0.6950\n",
            "Epoch 34/85\n",
            "63/63 [==============================] - 6s 94ms/step - loss: 0.6256 - accuracy: 0.9888 - val_loss: 1.7780 - val_accuracy: 0.6730\n",
            "Epoch 35/85\n",
            "63/63 [==============================] - 6s 94ms/step - loss: 1.3904e-06 - accuracy: 1.0000 - val_loss: 1.7575 - val_accuracy: 0.6820\n",
            "Epoch 36/85\n",
            "63/63 [==============================] - 6s 94ms/step - loss: 8.3733e-08 - accuracy: 1.0000 - val_loss: 1.7753 - val_accuracy: 0.6820\n",
            "Epoch 37/85\n",
            "63/63 [==============================] - 6s 94ms/step - loss: 4.7385e-08 - accuracy: 1.0000 - val_loss: 1.8060 - val_accuracy: 0.6800\n",
            "Epoch 38/85\n",
            "63/63 [==============================] - 6s 94ms/step - loss: 1.9203e-08 - accuracy: 1.0000 - val_loss: 1.9052 - val_accuracy: 0.6830\n",
            "Epoch 39/85\n",
            "63/63 [==============================] - 6s 94ms/step - loss: 1.4409e-09 - accuracy: 1.0000 - val_loss: 2.1315 - val_accuracy: 0.6820\n",
            "Epoch 40/85\n",
            "63/63 [==============================] - 6s 94ms/step - loss: 1.1346e-09 - accuracy: 1.0000 - val_loss: 2.3406 - val_accuracy: 0.6820\n",
            "Epoch 41/85\n",
            "63/63 [==============================] - 6s 94ms/step - loss: 1.2435e-09 - accuracy: 1.0000 - val_loss: 2.3932 - val_accuracy: 0.6860\n",
            "Epoch 42/85\n",
            "63/63 [==============================] - 6s 94ms/step - loss: 5.9822e-11 - accuracy: 1.0000 - val_loss: 2.4807 - val_accuracy: 0.6860\n",
            "Epoch 43/85\n",
            "63/63 [==============================] - 6s 94ms/step - loss: 1.3664e-09 - accuracy: 1.0000 - val_loss: 2.5722 - val_accuracy: 0.6970\n",
            "Epoch 44/85\n",
            "63/63 [==============================] - 6s 94ms/step - loss: 1.0438e-11 - accuracy: 1.0000 - val_loss: 2.7112 - val_accuracy: 0.6980\n",
            "Epoch 45/85\n",
            "63/63 [==============================] - 6s 95ms/step - loss: 5.1741e-10 - accuracy: 1.0000 - val_loss: 2.8055 - val_accuracy: 0.6950\n",
            "Epoch 46/85\n",
            "63/63 [==============================] - 6s 95ms/step - loss: 2.9111e-10 - accuracy: 1.0000 - val_loss: 2.8718 - val_accuracy: 0.6910\n",
            "Epoch 47/85\n",
            "63/63 [==============================] - 6s 94ms/step - loss: 2.0474e-10 - accuracy: 1.0000 - val_loss: 2.9813 - val_accuracy: 0.6970\n",
            "Epoch 48/85\n",
            "63/63 [==============================] - 6s 95ms/step - loss: 3.9223e-10 - accuracy: 1.0000 - val_loss: 2.9428 - val_accuracy: 0.6970\n",
            "Epoch 49/85\n",
            "63/63 [==============================] - 6s 94ms/step - loss: 2.6862e-10 - accuracy: 1.0000 - val_loss: 3.0206 - val_accuracy: 0.6970\n",
            "Epoch 50/85\n",
            "63/63 [==============================] - 6s 95ms/step - loss: 0.0763 - accuracy: 0.9984 - val_loss: 3.0423 - val_accuracy: 0.6700\n",
            "Epoch 51/85\n",
            "63/63 [==============================] - 6s 94ms/step - loss: 7.2168e-06 - accuracy: 1.0000 - val_loss: 2.5764 - val_accuracy: 0.6700\n",
            "Epoch 52/85\n",
            "63/63 [==============================] - 6s 94ms/step - loss: 9.9754e-09 - accuracy: 1.0000 - val_loss: 2.5645 - val_accuracy: 0.6670\n",
            "Epoch 53/85\n",
            "63/63 [==============================] - 6s 95ms/step - loss: 3.8862e-09 - accuracy: 1.0000 - val_loss: 2.5637 - val_accuracy: 0.6670\n",
            "Epoch 54/85\n",
            "63/63 [==============================] - 6s 94ms/step - loss: 1.8300e-09 - accuracy: 1.0000 - val_loss: 2.5826 - val_accuracy: 0.6680\n",
            "Epoch 55/85\n",
            "63/63 [==============================] - 6s 94ms/step - loss: 2.8936e-10 - accuracy: 1.0000 - val_loss: 2.7334 - val_accuracy: 0.6680\n",
            "Epoch 56/85\n",
            "63/63 [==============================] - 6s 94ms/step - loss: 1.4701e-09 - accuracy: 1.0000 - val_loss: 2.8695 - val_accuracy: 0.6790\n",
            "Epoch 57/85\n",
            "63/63 [==============================] - 6s 94ms/step - loss: 0.7538 - accuracy: 0.9816 - val_loss: 2.3889 - val_accuracy: 0.6630\n",
            "Epoch 58/85\n",
            "63/63 [==============================] - 6s 94ms/step - loss: 2.5973e-07 - accuracy: 1.0000 - val_loss: 2.3947 - val_accuracy: 0.6640\n",
            "Epoch 59/85\n",
            "63/63 [==============================] - 6s 96ms/step - loss: 1.6391e-08 - accuracy: 1.0000 - val_loss: 2.3979 - val_accuracy: 0.6640\n",
            "Epoch 60/85\n",
            "63/63 [==============================] - 6s 94ms/step - loss: 7.4889e-09 - accuracy: 1.0000 - val_loss: 2.4319 - val_accuracy: 0.6610\n",
            "Epoch 61/85\n",
            "63/63 [==============================] - 6s 94ms/step - loss: 3.1616e-09 - accuracy: 1.0000 - val_loss: 2.5335 - val_accuracy: 0.6600\n",
            "Epoch 62/85\n",
            "63/63 [==============================] - 6s 94ms/step - loss: 2.8967e-10 - accuracy: 1.0000 - val_loss: 2.7642 - val_accuracy: 0.6700\n",
            "Epoch 63/85\n",
            "63/63 [==============================] - 6s 94ms/step - loss: 1.5341e-10 - accuracy: 1.0000 - val_loss: 2.9387 - val_accuracy: 0.6750\n",
            "Epoch 64/85\n",
            "63/63 [==============================] - 6s 95ms/step - loss: 1.2378e-10 - accuracy: 1.0000 - val_loss: 3.1034 - val_accuracy: 0.6750\n",
            "Epoch 65/85\n",
            "63/63 [==============================] - 6s 94ms/step - loss: 4.0299e-10 - accuracy: 1.0000 - val_loss: 3.1541 - val_accuracy: 0.6850\n",
            "Epoch 66/85\n",
            "63/63 [==============================] - 6s 95ms/step - loss: 1.5915e-10 - accuracy: 1.0000 - val_loss: 3.2500 - val_accuracy: 0.6750\n",
            "Epoch 67/85\n",
            "63/63 [==============================] - 6s 94ms/step - loss: 2.4618e-09 - accuracy: 1.0000 - val_loss: 3.3333 - val_accuracy: 0.6880\n",
            "Epoch 68/85\n",
            "63/63 [==============================] - 6s 94ms/step - loss: 2.4271e-10 - accuracy: 1.0000 - val_loss: 3.3837 - val_accuracy: 0.6830\n",
            "Epoch 69/85\n",
            "63/63 [==============================] - 6s 94ms/step - loss: 2.3697e-10 - accuracy: 1.0000 - val_loss: 3.4539 - val_accuracy: 0.6870\n",
            "Epoch 70/85\n",
            "63/63 [==============================] - 6s 95ms/step - loss: 5.6015e-10 - accuracy: 1.0000 - val_loss: 3.6085 - val_accuracy: 0.6830\n",
            "Epoch 71/85\n",
            "63/63 [==============================] - 6s 95ms/step - loss: 1.5489e-10 - accuracy: 1.0000 - val_loss: 3.6296 - val_accuracy: 0.6880\n",
            "Epoch 72/85\n",
            "63/63 [==============================] - 6s 94ms/step - loss: 1.0624e-10 - accuracy: 1.0000 - val_loss: 3.6204 - val_accuracy: 0.6860\n",
            "Epoch 73/85\n",
            "63/63 [==============================] - 6s 94ms/step - loss: 6.9640e-11 - accuracy: 1.0000 - val_loss: 3.6962 - val_accuracy: 0.6880\n",
            "Epoch 74/85\n",
            "63/63 [==============================] - 6s 95ms/step - loss: 1.7553e-11 - accuracy: 1.0000 - val_loss: 3.7449 - val_accuracy: 0.6860\n",
            "Epoch 75/85\n",
            "63/63 [==============================] - 6s 95ms/step - loss: 1.2496e-10 - accuracy: 1.0000 - val_loss: 3.8372 - val_accuracy: 0.6860\n",
            "Epoch 76/85\n",
            "63/63 [==============================] - 6s 94ms/step - loss: 0.0880 - accuracy: 0.9978 - val_loss: 3.3785 - val_accuracy: 0.6790\n",
            "Epoch 77/85\n",
            "63/63 [==============================] - 6s 94ms/step - loss: 2.1924e-05 - accuracy: 1.0000 - val_loss: 3.3515 - val_accuracy: 0.6740\n",
            "Epoch 78/85\n",
            "63/63 [==============================] - 6s 95ms/step - loss: 1.2099e-08 - accuracy: 1.0000 - val_loss: 3.3147 - val_accuracy: 0.6690\n",
            "Epoch 79/85\n",
            "63/63 [==============================] - 6s 95ms/step - loss: 2.9003e-09 - accuracy: 1.0000 - val_loss: 3.3160 - val_accuracy: 0.6690\n",
            "Epoch 80/85\n",
            "63/63 [==============================] - 6s 94ms/step - loss: 1.2707e-09 - accuracy: 1.0000 - val_loss: 3.3238 - val_accuracy: 0.6740\n",
            "Epoch 81/85\n",
            "63/63 [==============================] - 6s 94ms/step - loss: 3.8183e-10 - accuracy: 1.0000 - val_loss: 3.4245 - val_accuracy: 0.6770\n",
            "Epoch 82/85\n",
            "63/63 [==============================] - 6s 94ms/step - loss: 6.5296e-10 - accuracy: 1.0000 - val_loss: 3.5694 - val_accuracy: 0.6730\n",
            "Epoch 83/85\n",
            "63/63 [==============================] - 6s 94ms/step - loss: 5.0184e-10 - accuracy: 1.0000 - val_loss: 3.7131 - val_accuracy: 0.6760\n",
            "Epoch 84/85\n",
            "63/63 [==============================] - 6s 95ms/step - loss: 6.6406e-10 - accuracy: 1.0000 - val_loss: 3.7232 - val_accuracy: 0.6860\n",
            "Epoch 85/85\n",
            "63/63 [==============================] - 6s 95ms/step - loss: 7.0642e-11 - accuracy: 1.0000 - val_loss: 3.8519 - val_accuracy: 0.6810\n"
          ],
          "name": "stdout"
        },
        {
          "output_type": "display_data",
          "data": {
            "image/png": "[encoded data removed]",
            "text/plain": [
              "<Figure size 432x288 with 1 Axes>"
            ]
          },
          "metadata": {
            "tags": [],
            "needs_background": "light"
          }
        }
      ]
    },
    {
      "cell_type": "markdown",
      "metadata": {
        "id": "m6sFSGEqjPwe"
      },
      "source": [
        "#Advanced Challenge: Implementing a Famous Architecture for Cats vs. Dogs\n",
        "\n",
        "Having trouble designing an effective architecture? Try implementing a version of AlexNet, one of the most famous CNNs for image convolution ever. You can find this image and other useful information on this network [here](https://towardsdatascience.com/the-w3h-of-alexnet-vggnet-resnet-and-inception-7baaaecccc96).\n",
        "\n",
        "![](https://lh4.googleusercontent.com/gFAxn9Z-Y1lgkNy2GfsqjXy1DvSuYF8rvP3CslRvmuoP5SUaJMrEOr24YShU_LwalLpYNJFwpJgcDh9whk9XrMOGQ1ADQ9FY_0saicCVH0jsNPDKOYBcTG4YhbqpbPolW4hZSdUsDQ)\n",
        "\n",
        "How do we read this diagram?\n",
        "\n",
        "On the left side, we start with images of dimension 227x227x3 (RGB). We apply a filter composed of 96 kernels of size 11x11, with stride size 4. We end up with data of dimension 55x55x96. We pass through multiple layers of convolution and max pooling as shown, before ending with three dense (fully connected) layers.\n",
        "\n",
        "Not shown: each layer uses ReLU activation, and we include dropout before the first two dense layers. Make sure to include those!\n",
        "\n",
        "You'll want to adjust some of these dimensions, for a few reasons: we're starting with 150x150 rather than 227x227 images, ending with 2 labels rather than 1000, and have limited data and memory. Use your knowledge of convolution arithmetic (see CNN slides) and the [Keras documentation](https://www.tensorflow.org/api_docs/python/tf/keras/layers/Conv2D) to change the stride, kernel, and/or padding.\n",
        "\n",
        "Use model.summary() to understand the dimensions of your data at each step. To speed things up as you're building, you can set the number of epochs to 1."
      ]
    },
    {
      "cell_type": "code",
      "metadata": {
        "id": "8FHg8YTGtQ2t",
        "colab": {
          "base_uri": "https://localhost:8080/",
          "height": 1000
        },
        "outputId": "dfa6acf1-9345-4900-ee76-7d16d77fe21a"
      },
      "source": [
        "model = Sequential()\n",
        "#TODO: Your code to run, train, and test AlexNet here:\n",
        "model.add(Conv2D(96, 11, strides = 3))\n",
        "model.add(Activation('relu'))\n",
        "\n",
        "model.add(Conv2D( 256, 5))\n",
        "model.add(Activation('relu'))\n",
        "\n",
        "model.add(MaxPooling2D(2))\n",
        "model.add(Activation('relu'))\n",
        "model.add(Conv2D(384, 3, padding = 'same'))\n",
        "model.add(Activation('relu'))\n",
        "\n",
        "model.add(MaxPooling2D(2))\n",
        "model.add(Activation('relu'))\n",
        "\n",
        "model.add(Conv2D(384, 3, padding = 'same'))\n",
        "model.add(Activation('relu'))\n",
        "\n",
        "model.add(Conv2D(256,3, padding = 'same'))\n",
        "model.add(Activation('relu'))\n",
        "\n",
        "model.add(MaxPooling2D(2))\n",
        "model.add(Activation('relu'))\n",
        "\n",
        "model.add(Flatten())\n",
        "\n",
        "model.add(Dropout(0.5))\n",
        "model.add(Dense(4096))\n",
        "model.add(Activation('relu'))\n",
        "\n",
        "model.add(Dropout(0.5))\n",
        "model.add(Dense(128))\n",
        "model.add(Activation('relu'))\n",
        "\n",
        "model.add(Dense(2))\n",
        "model.add(Activation('softmax'))\n",
        "\n",
        "# initiate RMSprop optimizer\n",
        "opt = keras.optimizers.RMSprop(lr=0.0001, decay=1e-6)\n",
        "\n",
        "# Let's train the model using RMSprop\n",
        "model.compile(loss='categorical_crossentropy',\n",
        "              optimizer=opt,\n",
        "              metrics=['accuracy'])\n",
        "\n",
        "# Train the CNN and plot accuracy.\n",
        "history = model.fit(cd_train_inputs, to_categorical(cd_train_labels), \\\n",
        "                    validation_data=(cd_test_inputs, to_categorical(cd_test_labels)), \\\n",
        "                    epochs=30)\n",
        "plot_acc(history)"
      ],
      "execution_count": null,
      "outputs": [
        {
          "output_type": "stream",
          "text": [
            "/usr/local/lib/python3.7/dist-packages/tensorflow/python/keras/optimizer_v2/optimizer_v2.py:375: UserWarning: The `lr` argument is deprecated, use `learning_rate` instead.\n",
            "  \"The `lr` argument is deprecated, use `learning_rate` instead.\")\n"
          ],
          "name": "stderr"
        },
        {
          "output_type": "stream",
          "text": [
            "Epoch 1/30\n",
            "63/63 [==============================] - 11s 101ms/step - loss: 6.7801 - accuracy: 0.4856 - val_loss: 0.7203 - val_accuracy: 0.5000\n",
            "Epoch 2/30\n",
            "63/63 [==============================] - 5s 74ms/step - loss: 0.7479 - accuracy: 0.5176 - val_loss: 0.7037 - val_accuracy: 0.5000\n",
            "Epoch 3/30\n",
            "63/63 [==============================] - 5s 74ms/step - loss: 0.7178 - accuracy: 0.4971 - val_loss: 0.7179 - val_accuracy: 0.5000\n",
            "Epoch 4/30\n",
            "63/63 [==============================] - 5s 74ms/step - loss: 0.7134 - accuracy: 0.5510 - val_loss: 0.6914 - val_accuracy: 0.5020\n",
            "Epoch 5/30\n",
            "63/63 [==============================] - 5s 74ms/step - loss: 0.6921 - accuracy: 0.5093 - val_loss: 0.7233 - val_accuracy: 0.5010\n",
            "Epoch 6/30\n",
            "63/63 [==============================] - 5s 75ms/step - loss: 0.6918 - accuracy: 0.5407 - val_loss: 0.6699 - val_accuracy: 0.6280\n",
            "Epoch 7/30\n",
            "63/63 [==============================] - 5s 75ms/step - loss: 0.6638 - accuracy: 0.6198 - val_loss: 0.6619 - val_accuracy: 0.5870\n",
            "Epoch 8/30\n",
            "63/63 [==============================] - 5s 75ms/step - loss: 0.6484 - accuracy: 0.6195 - val_loss: 0.6439 - val_accuracy: 0.6350\n",
            "Epoch 9/30\n",
            "63/63 [==============================] - 5s 75ms/step - loss: 0.6337 - accuracy: 0.6455 - val_loss: 0.9654 - val_accuracy: 0.5370\n",
            "Epoch 10/30\n",
            "63/63 [==============================] - 5s 76ms/step - loss: 0.6413 - accuracy: 0.6443 - val_loss: 0.6601 - val_accuracy: 0.6060\n",
            "Epoch 11/30\n",
            "63/63 [==============================] - 5s 75ms/step - loss: 0.5922 - accuracy: 0.6944 - val_loss: 0.6536 - val_accuracy: 0.6420\n",
            "Epoch 12/30\n",
            "63/63 [==============================] - 5s 76ms/step - loss: 0.5581 - accuracy: 0.7129 - val_loss: 0.6120 - val_accuracy: 0.6610\n",
            "Epoch 13/30\n",
            "63/63 [==============================] - 5s 76ms/step - loss: 0.5451 - accuracy: 0.7266 - val_loss: 0.8334 - val_accuracy: 0.6030\n",
            "Epoch 14/30\n",
            "63/63 [==============================] - 5s 76ms/step - loss: 0.4960 - accuracy: 0.7603 - val_loss: 0.5805 - val_accuracy: 0.7170\n",
            "Epoch 15/30\n",
            "63/63 [==============================] - 5s 76ms/step - loss: 0.4824 - accuracy: 0.7637 - val_loss: 0.6789 - val_accuracy: 0.6860\n",
            "Epoch 16/30\n",
            "63/63 [==============================] - 5s 76ms/step - loss: 0.4190 - accuracy: 0.7990 - val_loss: 0.5863 - val_accuracy: 0.7280\n",
            "Epoch 17/30\n",
            "63/63 [==============================] - 5s 76ms/step - loss: 0.3861 - accuracy: 0.8163 - val_loss: 0.5956 - val_accuracy: 0.7210\n",
            "Epoch 18/30\n",
            "63/63 [==============================] - 5s 76ms/step - loss: 0.3403 - accuracy: 0.8526 - val_loss: 1.1125 - val_accuracy: 0.6310\n",
            "Epoch 19/30\n",
            "63/63 [==============================] - 5s 77ms/step - loss: 0.3592 - accuracy: 0.8439 - val_loss: 0.8416 - val_accuracy: 0.6540\n",
            "Epoch 20/30\n",
            "63/63 [==============================] - 5s 77ms/step - loss: 0.3569 - accuracy: 0.8511 - val_loss: 0.9616 - val_accuracy: 0.6670\n",
            "Epoch 21/30\n",
            "63/63 [==============================] - 5s 77ms/step - loss: 0.3226 - accuracy: 0.8675 - val_loss: 0.7313 - val_accuracy: 0.7070\n",
            "Epoch 22/30\n",
            "63/63 [==============================] - 5s 77ms/step - loss: 0.2369 - accuracy: 0.9057 - val_loss: 0.8465 - val_accuracy: 0.7220\n",
            "Epoch 23/30\n",
            "63/63 [==============================] - 5s 77ms/step - loss: 0.2210 - accuracy: 0.9078 - val_loss: 0.8557 - val_accuracy: 0.6920\n",
            "Epoch 24/30\n",
            "63/63 [==============================] - 5s 77ms/step - loss: 0.1762 - accuracy: 0.9378 - val_loss: 1.4758 - val_accuracy: 0.6890\n",
            "Epoch 25/30\n",
            "63/63 [==============================] - 5s 84ms/step - loss: 0.3075 - accuracy: 0.8958 - val_loss: 0.6884 - val_accuracy: 0.7160\n",
            "Epoch 26/30\n",
            "63/63 [==============================] - 5s 77ms/step - loss: 0.2132 - accuracy: 0.9082 - val_loss: 0.7348 - val_accuracy: 0.7330\n",
            "Epoch 27/30\n",
            "63/63 [==============================] - 5s 78ms/step - loss: 0.1799 - accuracy: 0.9217 - val_loss: 0.9792 - val_accuracy: 0.7210\n",
            "Epoch 28/30\n",
            "63/63 [==============================] - 5s 78ms/step - loss: 0.1631 - accuracy: 0.9348 - val_loss: 0.9881 - val_accuracy: 0.7300\n",
            "Epoch 29/30\n",
            "63/63 [==============================] - 5s 78ms/step - loss: 0.1732 - accuracy: 0.9349 - val_loss: 0.8719 - val_accuracy: 0.7260\n",
            "Epoch 30/30\n",
            "63/63 [==============================] - 5s 77ms/step - loss: 0.1287 - accuracy: 0.9537 - val_loss: 1.0383 - val_accuracy: 0.7490\n"
          ],
          "name": "stdout"
        },
        {
          "output_type": "display_data",
          "data": {
            "image/png": "[encoded data removed]",
            "text/plain": [
              "<Figure size 432x288 with 1 Axes>"
            ]
          },
          "metadata": {
            "tags": [],
            "needs_background": "light"
          }
        }
      ]
    },
    {
      "cell_type": "markdown",
      "metadata": {
        "id": "PlF308hDjwyC"
      },
      "source": [
        "You might find that even AlexNet isn't working that well for you!\n",
        "\n",
        "This is because having a good architecture is only half the battle: AlexNet is a complex model designed to learn from millions of images. We're using a small dataset of only 2000 training images, so it's not surprising that our results aren't great. Our model is overfitting: essentially memorizing the few training images, rather than really learning the difference between a cat and a dog. (The advantage is that our model trains quickly.)\n",
        "\n",
        "To get really good performance, we need more data. If we can't find more, we could use *data augmentation*: inventing new training data by transforming our existing images. You can read more about it at https://blog.keras.io/building-powerful-image-classification-models-using-very-little-data.html."
      ]
    },
    {
      "cell_type": "markdown",
      "metadata": {
        "id": "RVzEpI_xWpE5"
      },
      "source": [
        "![](https://images.pexels.com/photos/316/black-and-white-animal-dog-pet.jpg?auto=compress&cs=tinysrgb&dpr=2&h=650&w=940)"
      ]
    }
  ]
}